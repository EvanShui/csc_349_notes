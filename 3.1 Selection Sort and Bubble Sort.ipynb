{
 "cells": [
  {
   "cell_type": "markdown",
   "metadata": {},
   "source": [
    "Uses brute-force approach to the problem of sorting in increasing order."
   ]
  },
  {
   "cell_type": "markdown",
   "metadata": {},
   "source": [
    "# Selection Sort\n",
    "* Scans the entire list to find the smallest element and exchange it with the first element.\n",
    "* Scan the remaining part of the list for the smallest element, replace with the second element and repeat.\n",
    "* On the ith pass through the list, the algorithm searches for the smallest itme among the last n - i elements.\n",
    "* The basic operation is a comparison\n",
    "* Size of the array is n\n",
    "* A closed loop form of the number of iterations can be represented as\n",
    "    * $C(n) = \\sum_{i=0}^{n-2}\\sum_{j=i+1}^{n-1} 1$\n",
    "    * $=\\sum_{i=0}^{n-2}[(n-1) - (i+1) + 1]$\n",
    "    * $=\\sum_{i=0}^{n-2}[n-i-1]$\n",
    "    * $=\\sum_{i=0}^{n-2}[n-1] - \\sum_{i=0}^{n-2}i$\n",
    "    * $=\\sum_{i=0}^{n-2}[n-1] - \\frac{(n-2)(n-1)}{2}$\n",
    "    * $=(n-1)\\sum_{i=0}^{n-2}1 - \\frac{(n-2)(n-1)}{2}$\n",
    "    * $=(n-1) * (n-2+1) - \\frac{(n-2)(n-1)}{2}$\n",
    "    * $=(n-1)^2 - \\frac{(n-2)(n-1)}{2}$\n",
    "    * $=\\frac{(n-1)(n)}{2}$\n",
    "    * Thus the algorithm runs $\\Theta({n^2})$ however the number of key swaps is $\\Theta({n})$, as there is at most one swap per outer loop iteration."
   ]
  },
  {
   "cell_type": "code",
   "execution_count": 1,
   "metadata": {},
   "outputs": [],
   "source": [
    "def SelectionSort(A):\n",
    "    # Sorts a given array by selection sort\n",
    "    # Input: A[0...n-1]\n",
    "    # Output: A[0...n-1] where the order of the array\n",
    "    # is in increasing order\n",
    "    for i in range(0, len(A) - 1):\n",
    "        min_ind = i\n",
    "        for j in range(i, len(A)):\n",
    "            if A[min_ind] > A[j]:\n",
    "                min_ind = j\n",
    "        temp = A[i]\n",
    "        A[i] = A[min_ind]\n",
    "        A[min_ind] = temp"
   ]
  },
  {
   "cell_type": "markdown",
   "metadata": {},
   "source": [
    "# Bubble Sort\n",
    "* Compare adjacent elements of the list and exchange them if they are out of order.\n",
    "* Moves the current element toward the end of the list, if it's less than the next elememnt, then stay and move the pointer to the next element. If it's greater than the next element, then switch with the next element. \n",
    "* By the end of an outer loop iteration, the max element should be at the end of the list (or the last \n",
    "* The number of operations this sort has to perform is: \n",
    "    * $C(n) = \\sum_{i=0}^{n-2}\\sum_{j=0}^{n-2-i}1$\n",
    "    * $C(n) = \\sum_{i=0}^{n-2}(n-2-i + 1)$\n",
    "    * $C(n) = \\sum_{i=0}^{n-2}(n-i-1)$\n",
    "    * $C(n) = \\frac{(n-1)(n)}{2} \\in \\Theta(n^2)$\n",
    "        * Look at problem above\n",
    "* Add one more thing, if there are no swaps performed, then we can assume that the list is already sorted. \n",
    "* Takeaway: A first application of the brute-force approach often results in an algorithm that can be improved with a modest effort."
   ]
  },
  {
   "cell_type": "code",
   "execution_count": 2,
   "metadata": {},
   "outputs": [],
   "source": [
    "def BubbleSort(A):\n",
    "    # Sorts a given array by bubble sort\n",
    "    # Input: An array A[0...n-1]\n",
    "    # Output: An array A[0...n-1] that is sorted\n",
    "    for i in range(n-2):\n",
    "        for j in range(n-2-i):\n",
    "            if A[j+1] < A[j]:\n",
    "                temp = A[j+1]\n",
    "                A[j+1] = A[j]\n",
    "                A[j] = temp"
   ]
  },
  {
   "cell_type": "code",
   "execution_count": null,
   "metadata": {},
   "outputs": [],
   "source": []
  }
 ],
 "metadata": {
  "kernelspec": {
   "display_name": "Python 3",
   "language": "python",
   "name": "python3"
  },
  "language_info": {
   "codemirror_mode": {
    "name": "ipython",
    "version": 3
   },
   "file_extension": ".py",
   "mimetype": "text/x-python",
   "name": "python",
   "nbconvert_exporter": "python",
   "pygments_lexer": "ipython3",
   "version": "3.6.5"
  }
 },
 "nbformat": 4,
 "nbformat_minor": 2
}
