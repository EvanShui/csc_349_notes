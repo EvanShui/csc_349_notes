{
 "cells": [
  {
   "cell_type": "markdown",
   "metadata": {},
   "source": [
    "We will define Fibonacci numbers\n",
    "* 0 1 1 2 3 5 8 13 21 34 ...\n",
    "* This can be defined by:\n",
    "    * $F(n) = F(n-1) + F(n-2)$ for $n \\gt 1$\n",
    "    * Initial Condition: $F(0) = 0$ and $F(1) = 1$\n",
    "    * If we try to apply method of backward stubstitutions to solve recurrence, we will fail since there is no discernable pattern.\n",
    "    * We can use a theorem that describes solutions to a **homogeneous second-order linear recurrence with constant coefficients**\n",
    "        * $ax(n) + bx(n-1) + cx(n-2) = 0$\n",
    "        * Look at appendix B*\n",
    "    * If we apply that formula to our reucrrence, we obtain\n",
    "        * $F(n) = \\frac{1}{\\sqrt{5}}(\\phi^n - \\phi^{'n})$\n",
    "        * Where $\\phi = (1 + \\sqrt(5))/2$ and $\\phi^{'} = -1/\\phi \\approx -0.61803$\n",
    "    * Benefits of using this formula:\n",
    "        * Implies that F(n) grows exponentially.\n",
    "            * $F(n) \\in \\Theta({\\phi^n})$\n",
    "            * Since $-1 \\lt \\phi^n \\lt 0$, as $\\lim{n\\to\\infty}\\phi^n = 0$\n",
    "        * Because n approaches 0 rather quickly, we can say that the second term $\\frac{1}{5}\\phi^{\\n}$ on the value of F(n) can be obtained by rounding off the value of the first term to the nearest integer, which will be 0 (since $\\frac{1}{\\sqrt(5)} * 0.61803 = 0.27639141842$) which would have very little impact on the value of F(n).\n",
    "    * We can say that $F(n) = \\frac{1}{\\sqrt{5}}$ rounded to the nearest integer."
   ]
  },
  {
   "cell_type": "code",
   "execution_count": 1,
   "metadata": {},
   "outputs": [],
   "source": [
    "def F(n):\n",
    "    # Computes the nth Fib number recursively\n",
    "    # Input: a non-negative integer n\n",
    "    # Output: The nth fib number\n",
    "    if n<=1:\n",
    "        return n\n",
    "    else:\n",
    "        return F(n-1) + F(n-2)"
   ]
  },
  {
   "cell_type": "markdown",
   "metadata": {},
   "source": [
    "# Algorithm\n",
    "* We can see that the basic operation is addition.\n",
    "* Let $A(n)$ be the number of addition operations performed for F(n) given n.\n",
    "    * THe number of additions needed to compute F(n-1) and F(n-2) are equal to A(n-1) and A(n-2) respectively.\n",
    "* Thus, we get the following recurrence relation.\n",
    "    * $A(n) = A(n-1) + A(n-2) + 1$ for $n \\gt 1$\n",
    "    * Initial conditions: $A(0) = 0, A(1) = 0$\n",
    "        * No operations are being performed, thus return 0\n",
    "    * The recurrence $A(n) - A(n-1) - A(n-2) = 1$ is inhomoegenous (b/c the right side of the equation is non-zero), however we can re-write to make it homogeneous.\n",
    "        * $[A(n) + 1] - [A(n-1) + 1] - [A(n-2) + 1] = 0$\n",
    "        * Sub $B(n) = A(n) + 1$\n",
    "        * $B(n) - B(n-1) - B(n-2) = 0$\n",
    "        * Initial conditions\n",
    "            * B(0) = 1, B(1) = 1\n",
    "   * B(n) is just F(n) that runs with the initial conditions equal to 1 instead of 0.\n",
    "       * Thus, we can say that B(n) = F(n+1) and\n",
    "\n",
    "* $A(n) = B(n) - 1 = F(n+1) - 1 = \\frac{1}{\\sqrt{5}}(\\phi^{n+1} - \\phi^{'n+1}) - 1$\n",
    "* Thus, $A(n) \\in \\Theta(\\phi^{n})$ and if we want the size to be measured in number of bits in the input, $A(n) \\in \\Theta(\\phi^{2^n)}$"
   ]
  },
  {
   "cell_type": "markdown",
   "metadata": {},
   "source": [
    "# Alternatives\n",
    "* There are many different ways we can calculate fib.\n",
    "    * First is by using a form of dynamic programming. Refer to the code on the bottom.\n",
    "        * This code will be linear, as there only needs to be n-1 additions that will be executed.\n",
    "    * Uses $\\Phi^n$, take a look at page 83\n",
    "    * Uses a matrix to compute values."
   ]
  },
  {
   "cell_type": "code",
   "execution_count": null,
   "metadata": {},
   "outputs": [],
   "source": [
    "def Fib(n):\n",
    "    F = [0] * n\n",
    "    F[0] = 0\n",
    "    F[1] = 1\n",
    "    for i in range(2, n+1):\n",
    "        F[i] = F[i-1] + F[i-2]\n",
    "    return F[n]"
   ]
  }
 ],
 "metadata": {
  "kernelspec": {
   "display_name": "Python 3",
   "language": "python",
   "name": "python3"
  },
  "language_info": {
   "codemirror_mode": {
    "name": "ipython",
    "version": 3
   },
   "file_extension": ".py",
   "mimetype": "text/x-python",
   "name": "python",
   "nbconvert_exporter": "python",
   "pygments_lexer": "ipython3",
   "version": "3.6.5"
  }
 },
 "nbformat": 4,
 "nbformat_minor": 2
}
