{
 "cells": [
  {
   "cell_type": "markdown",
   "metadata": {},
   "source": [
    "# 2.1 The Analysis Framework\n",
    "\n",
    "There are two types of efficiency:\n",
    "* Time: how fast an algorithm runs\n",
    "* Space: Amount of memory units required by the algorithm needed for its input and output.\n",
    "    * Space complexity isn't tested that often in this class."
   ]
  },
  {
   "cell_type": "markdown",
   "metadata": {},
   "source": [
    "## Measuring an Input's Size\n",
    "* The amount of time (or overall efficiency) is best represented by a function of parameter n, where n is the size of the input.\n",
    "* In some cases, n is easy to find, it other cases it isn't so easy.\n",
    "    * In a list or an array, n is the length of the array.\n",
    "    * In a n x n matrix, there are two ways we can evaluate the size.\n",
    "        1. The matrix order / length or just a single row (n).\n",
    "        2. The total number of elements (n * n), this choice is more common since it is more applicable to matrices that are not squares.\n",
    "    * In a graph, having a single parameter isn't sufficient, thus it requires more than one parameter to indicate the size of the input (edges and vertices).\n",
    "* The choice of n is dependent on the operation of the algorithm.\n",
    "    * In a spell check algorithm, if the algorithm examines individiual characters, n = number of characters.\n",
    "    * If the algorithm examines individual words, n = number of words.\n",
    "* E.X. Checking whether an integer is a prime number or not.\n",
    "    * Input is an integer, but to check it's efficiency, it's preferable to measure size by the number b of bits in the n's binary representation\n",
    "    * $b = |\\_log_2{n}\\_| + 1$\n",
    "    * floor(log2n)\n"
   ]
  },
  {
   "cell_type": "markdown",
   "metadata": {},
   "source": [
    "## Units for Measuring Running Time\n",
    "* Isn't optimal to use seconds, ms, fixed time units b/c performance of a computer varies as well as compiler run-time.\n",
    "* Need a measure of an algorithm's efficiency that is independent of physic computational limitations.\n",
    "* Using a **basic operation** will satisfy our needs to determine an algorithm's efficiency.\n",
    "    * **basic operation**: Operation that takes up most of the algorithm's run-time.\n",
    "* Calculate the total number of times the basic operation is executed.\n",
    "* Examples of finding the basic operation.\n",
    "    * Sorting alrgorithms -> basic operation is a key comparison.\n",
    "* Established framework for analyzing an algorithm's time efficiency is counting the number of basic operations that is executed for an input of size n.\n",
    "* Application of the above: \n",
    "    * Let $c_{op}$ be the execution time of an algorithm's basic operation\n",
    "    * Let $C(n)$ be the number of times this operation needs to be executed for said algorithm given an input of size n.\n",
    "    * We can estaimte $T(n)$, total running time, with $T(n) = c_{op} * C(n)$\n",
    "        * This estimate should be used with caution.\n",
    "        * The calculation doesn't include anthing about non-basic operations (extraneous).\n",
    "        * $c_{op}$ is just an approximate of how much time it may take, may vary due to how the operation is structured.\n",
    "        * Apart from extreme values of n, this estimation is reasonable.\n",
    "* Example of using the estimation\n",
    "    * $C(n) = \\frac{1}{2}n(n-1) \\approx \\frac{1}{2}n^2$\n",
    "    * How much longer will the algorithm run if we double it's input?\n",
    "    * $\\frac{C(2n)}{C(n)} = \\frac{\\frac{1}{2}(2n)^2}{\\frac{1}{2}(n^2)} = 4$"
   ]
  },
  {
   "cell_type": "markdown",
   "metadata": {},
   "source": [
    "# Orders of Growth\n",
    "* Running time for small input sizes won't be significant across multiple algorithms.\n",
    "* For large input sizes, running time will be quite different.\n",
    "* Main takeaway, algorithms that require an exponential number of operations are practical for only solving problems with small sizes."
   ]
  },
  {
   "cell_type": "markdown",
   "metadata": {},
   "source": [
    "# Worst-Case, Best-Case, and Average-Case Efficiencies\n",
    "* Algorithms depend not only on size of the input, but the specifics on how the input is structured / ordered.\n",
    "* For a sequential search, loop through the array to check for the existance of a value K. If that value doesn't exist in the array, then return -1, else return the index.\n",
    "* If no elements match, $C_{worst}(n) = n$, which is the worst case.\n",
    "* **Worst Case**: when a particular input causes the algorithm to run the largest among all possible inputs of that size.\n",
    "    * To determine worst case, analyze to see what inputs yield the highest C(n) count.\n",
    "    * In the case of sequential search, worst case is when the value doens't exist and the algorithm has to loop through the entire array.\n",
    "    * Guarantees that the algorithm won't exceed the running time on the worst-case inputs.\n",
    "* **Best Case**: efficiency for the best-case input of size n. The input will cause the algorithm to run the fastest among all possible inputs.\n",
    "    * Determine the kind of inputs for which C(n), number of times basic operation is executed, where it is the smallest.\n",
    "    * For sequential search, best case is when the first element in the array is the value you are looking for, thus $C_{best}(n) = 1$\n",
    "* **Average Case**: efficiency for the average-case input of size n. Thinking about the average case differs for all problems.\n",
    "    * For sequential search, we have to make several assumptions.\n",
    "        1. The probability of the finding the element is equal throughout all elements\n",
    "        2. Probability of a successful search = p (0 <= p <= 1)\n",
    "        3. THe element exists in the array.\n",
    "    * TO find average number of comparisons, basic operation:\n",
    "        1. Probability of the first match occuring in the ith position is p/n for every i.\n",
    "        2. Probability of an unsuccessful search is (1-p).\n",
    "    * Look more in page 49 for more details.\n",
    "* **Amortized efficiency**: a specific case of efficiency if an operation changes it's efficiency to a worst case.\n",
    "    * In a case with dynamic programming, adding an element may be an O(n) operation, due to the fact that you may need to copy all of the elements over into a new array.\n",
    "    * However, usually adding an element would take O(1), thus we can say that adding an element takes O(1) and that the cost of O(n) is amortized over n/2 operations, where n/2 is the total number of elements that need to be added before the array grows (Causing the next add operation to be O(n) due to growth)."
   ]
  },
  {
   "cell_type": "markdown",
   "metadata": {},
   "source": [
    "8.<br/>\n",
    "    a. $log_{2}4 = 2$<br/>\n",
    "    b. $\\sqrt{4} = 2$<br/>\n",
    "    c. $4 = 4$<br/>\n",
    "    d. $4^2 = 16$<br/>\n",
    "    e. $4^3 = 64$<br/>\n",
    "    f. $2^4 = 16$<br/>"
   ]
  },
  {
   "cell_type": "code",
   "execution_count": null,
   "metadata": {},
   "outputs": [],
   "source": []
  }
 ],
 "metadata": {
  "kernelspec": {
   "display_name": "Python 3",
   "language": "python",
   "name": "python3"
  },
  "language_info": {
   "codemirror_mode": {
    "name": "ipython",
    "version": 3
   },
   "file_extension": ".py",
   "mimetype": "text/x-python",
   "name": "python",
   "nbconvert_exporter": "python",
   "pygments_lexer": "ipython3",
   "version": "3.6.5"
  }
 },
 "nbformat": 4,
 "nbformat_minor": 2
}
