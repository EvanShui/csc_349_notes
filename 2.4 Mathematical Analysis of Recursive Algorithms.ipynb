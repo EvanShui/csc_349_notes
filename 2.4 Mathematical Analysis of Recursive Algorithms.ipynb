{
 "cells": [
  {
   "cell_type": "markdown",
   "metadata": {},
   "source": [
    "We will learn how to apply the general framework for analysis of algorithms to recursive algorithms"
   ]
  },
  {
   "cell_type": "markdown",
   "metadata": {},
   "source": [
    "# Example 1 - factorial\n",
    "\n",
    "* Compute the factorial function F(n) = n! for $n \\in \\mathbb{N}$\n",
    "* $n! = 1 * ... * (n - 1) * n = (n - 1)! * n$ for $ n \\geq 1$\n",
    "    * where (0)! = 1\n",
    "* We define n to be this algorithm's input size.\n",
    "* The basic operation for this algorithm is multiplication, we define M(n) as the number of multiplication operations performed for size n.\n",
    "    * Algorithm is defined to be $F(n) = F(n-1) * n$ for $n \\gt 0$\n",
    "    * Thus, to find M(n), we can define it to be $M(n) = M(n-1) * n$ for $n \\gt 0$\n",
    "        * M(n-1) = multiplications spent to computer F(n-1)\n",
    "    * M(n) is defined as a recurrence relation, or recurrences.\n",
    "* Solving recurrence relations\n",
    "    * To determine a solution unique, need initial condition.\n",
    "        * If n == 0, return 1\n",
    "            * This means that the smallest value n can be is 0.\n",
    "            * Also, when n == 0, no basic operation is performed, just returns 0.\n",
    "    * We can now set up the recurrence relation and initial condition.\n",
    "        * recurrence: $M(n) = M(n-1) + 1$ for $n \\gt 0$\n",
    "            * We add one because M(n) will call one multiplication + the the number of times M(n-1) performs the multiplication operation. So, \n",
    "        * initial condition: $M(0) = 0$\n",
    "    * Use **method of backward substitutions**, substitute the recursive function with the next 'step'.\n",
    "        * $M(n) = M(n-1) + 1$\n",
    "            * Substitute $M(n-1)$ with $M(n-2) + 1$\n",
    "        * $ = M(n-2) + 1 + 1 = M(n-2) + 2$\n",
    "            * Substitute $M(n-2)$ with $M(n-3) + 1$\n",
    "        * $ = M(n-3) + 1 + 1 + 1 = M(n-3) + 3$\n",
    "        * We can see that a general pattern begin to form:\n",
    "            * $M(n) = M(n-i) + i$\n",
    "    * Substitute i = n into the general formula to reach base case.\n",
    "        * $M(n) = M(n-n) + n = n$"
   ]
  },
  {
   "cell_type": "code",
   "execution_count": 2,
   "metadata": {},
   "outputs": [],
   "source": [
    "def F(n):\n",
    "    # Computes n! recursively\n",
    "    # Input: A non-negative integer n\n",
    "    # Output: The value of n!\n",
    "    if n == 0:\n",
    "        return 1\n",
    "    return n * F(n-1)"
   ]
  },
  {
   "cell_type": "markdown",
   "metadata": {},
   "source": [
    "# General Plan for Analyzing the Time Efficiency of Recursive Algorithms\n",
    "1. Decide on a parameter (or parametes) indicating an input's size.\n",
    "2. Identify the algorithm's basic operation\n",
    "3. Check to see if the basic operation varies depending on case. If so, find best, worst, and average case.\n",
    "4. Set up a recurrence relation and the appropriate intial condition for the number of time the operation is executed.\n",
    "5. Solve the recurrence or at least find the order of growth."
   ]
  },
  {
   "cell_type": "markdown",
   "metadata": {},
   "source": [
    "# Example 2 - Tower of Hanoi\n",
    "* Read page 73 for details on the problem statement.\n",
    "* Two restrictions\n",
    "    * Can only move one disk at a time.\n",
    "    * It is forbidden to place a larger disk on top of a smaller one.\n",
    "* We first move n > 1 disks from peg1 to peg3 with peg2 as an auxiliary.\n",
    "* Then move recursively n-1 disks from peg 1 to peg 2 with peg 3 as auxiliary.\n",
    "* THen move the largest disk directly from peg 1 to peg 3.\n",
    "    * Finally we move recursively n-1 disks from peg 2 to peg 3 using peg 1 as auxiliary.\n",
    "* If n = 1, we move the single disk directly from the source peg to the destination peg.\n",
    "* The basic operation is moving a disk.\n",
    "* Defining recurrence relation\n",
    "    * $M(n) = M(n-1) + 1 + M(n-1)$ for $n \\gt 1$\n",
    "    * $= M(n) = 2 * M(n-1) + 1$\n",
    "    * Initial condition\n",
    "        * $M(1) = 1$\n",
    "* Solving the recurrence relation\n",
    "    * $M(n) = 2M(n-1) + 1$\n",
    "        * Substitute $M(n-1) = 2M(n-2) + 1$\n",
    "    * $=M(n) = 2*(2*M(n-2) + 1) + 1$\n",
    "    * $=4*M(n-2) + 3$\n",
    "        * Substitute $M(n-2) = 2M(n-3) + 1$\n",
    "    * $=4*(2M(n-3) + 1) + 3$\n",
    "    * $=8M(n-3) + 7$\n",
    "    * The general formula is:\n",
    "        * $M(n) = 2^i * M(n-i) + (2^i - 1)$\n",
    "* Analysis of the recurrence relation.\n",
    "    * Since the condition is specified for n=1, we can say that i = n-1, where n-1 is the number of iterations this algorithm will execute, since the initial condition will return 1 if n == 1.\n",
    "    * Thus, sub in i = n-1.\n",
    "        * $M(n) = 2 ^ (n-1) * M(n - (n-1)) + (2^(n-1) - 1)$\n",
    "        * $= 2^(n-1) * M(1) + 2^(n-1) - 1$\n",
    "        * $= 2^n - 1$\n",
    "    * This is an exponential growth problem.\n",
    "* Another method of determining the number of times a recursive algorithm runs for is by constructing a recurisve tree.\n",
    "\n",
    "* Refer to Figure 2.5 on page 75\n",
    "    * $C(n) = \\sum_{l=0}^{n-1} 2^l$ where l is the number of levels in the recursive tree."
   ]
  },
  {
   "cell_type": "markdown",
   "metadata": {},
   "source": [
    "# Example 3 - BinRec\n",
    "* Recurrence Relation:\n",
    "    * $A(n) = A(floor(n/2)) + 1$ for $n \\gt 1$\n",
    "    * Initial condition: $A(1) = 0$\n",
    "    * The presence of the floor function makes the method of backward substitutions stumble on values of n that aren't powers of 2.\n",
    "    * The only way to solve this recurrence relation is to use the smoothness theorem.\n",
    "        * According to the theorem, n = $2^k$ gives a correct answer about the order of growth for all values of n.\n",
    "    * Recurrence Relation: $A(2^k) = A(2^{k-1}) + 1$ for $k \\gt 0$\n",
    "    * Initial condition: $A(2^0) = 0$\n",
    "* Backward Substitution\n",
    "    * $A(2^k) = A(2^{k-1}) + 1$\n",
    "        * substitute $A(2^{k-1}) = A(2^{k-2}) + 1$\n",
    "    * $=[A(2^{k-2}) + 1] + 1 = (2^{k-2}) + 2$\n",
    "        * substitute $A(2^{k-2}) = A(2^{k-3}) + 1$\n",
    "    * $=[A(2^{k-3}) + 1] + 1 = (2^{k-3}) + 3$\n",
    "    * ... = $(2^{k-i}) + i$\n",
    "    * ... = $(2^{k-k}) + k$\n",
    "    * We end up with $A(2^k) = A(1) + k = k$\n",
    "    * Thus, with n = $2^k$ we can represent $k = log_2n$\n",
    "    * $A(n) = log_2n \\in \\Theta(log n)$"
   ]
  },
  {
   "cell_type": "code",
   "execution_count": 3,
   "metadata": {},
   "outputs": [],
   "source": [
    "import math\n",
    "\n",
    "def BinRec(n):\n",
    "    # input: A positive decimal integer n\n",
    "    # output: The number of binary digits in n's binary representation\n",
    "    if n == 1:\n",
    "        return 1\n",
    "    else:\n",
    "        return BinRec(math.floor(n/2)+1)"
   ]
  },
  {
   "cell_type": "code",
   "execution_count": null,
   "metadata": {},
   "outputs": [],
   "source": []
  }
 ],
 "metadata": {
  "kernelspec": {
   "display_name": "Python 3",
   "language": "python",
   "name": "python3"
  },
  "language_info": {
   "codemirror_mode": {
    "name": "ipython",
    "version": 3
   },
   "file_extension": ".py",
   "mimetype": "text/x-python",
   "name": "python",
   "nbconvert_exporter": "python",
   "pygments_lexer": "ipython3",
   "version": "3.6.5"
  }
 },
 "nbformat": 4,
 "nbformat_minor": 2
}
