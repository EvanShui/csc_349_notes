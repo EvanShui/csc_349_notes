{
 "cells": [
  {
   "cell_type": "markdown",
   "metadata": {},
   "source": [
    "Applying the general framework to analyze the time efficiency of nonrecursive algorithms."
   ]
  },
  {
   "cell_type": "markdown",
   "metadata": {},
   "source": [
    "# Example 1\n",
    "* Find the value of the largest element in a list of *n* numbers.\n",
    "* There are a total of two operations that could be considered as the \"basic\" operation.\n",
    "    * The comparison of between A[i] and max_val\n",
    "    * The assignment max_val = A[i]\n",
    "* Since the comparison happens more frequently, and as we stated before, the basic operation is the operation that takes up most of the algorithm's runtime.\n",
    "* Since the number of comparisons is n given an input n, there is no best, worst, or average case here.\n",
    "* Let us denote C(n) = number of times this comparison is executed.\n",
    "    * Algorithm makes one comparison per execution of the loop.\n",
    "    * Since we are skipping the first element, index 0, we start at index 1.\n",
    "        * Since the array goes from index 0 to n-1 for size n, we are only going to perform n-1 comparisons from index 1 to n-1.\n",
    "        * array of size 5 -> run comparison for indices from 1 to 4 inclusive -> 4 - 1 + 1 = 4 comparisons.\n",
    "    * Thus, $C(n) = \\sum_{i=1}^{n-1} 1 = n-1 \\in \\Theta(n)$"
   ]
  },
  {
   "cell_type": "code",
   "execution_count": 1,
   "metadata": {},
   "outputs": [],
   "source": [
    "def MaxElement(A):\n",
    "    # Determines the largerst element in a given array\n",
    "    # input: A is an array A[0...n-1] of real numbers\n",
    "    # output: int max_val, the maximum value in the array\n",
    "    max_val = A[0]\n",
    "    for i in range(1,len(A)):\n",
    "        if A[i] > max_val:\n",
    "            max_val = A[i]\n",
    "    return max_val"
   ]
  },
  {
   "cell_type": "markdown",
   "metadata": {},
   "source": [
    "# General Plan for Analyzing the Time Efficiency of Nonrecursive Algorithms\n",
    "* Decide on a parameter (or parameters) indicating an input's size.\n",
    "* Identify the algorithm's basic operation.\n",
    "* Check whether the number of times the basic operation is executed depends on the size of an input (n).\n",
    "    * If it depends on additional property, worst-case, best-case, and average-case, then proceed accordingly.\n",
    "* Set up a sum expressing number of times the algorithm's basic operation is executed.\n",
    "* Either find a closed-form formula, returns an actual value, or at least find the order of growth.\n",
    "\n",
    "* Two main summation properties should take not of\n",
    "* $\\sum_{i=k}^{u} 1 = u - k + 1$\n",
    "* $\\sum_{i=0}^{n} i = \\sum_{i=1}^{n} i = 1 + 2 + ... + n = \\frac{(n)(n+1)}{2} \\approx \\frac{1}{2}n^2 \\in \\Theta{n^2}$"
   ]
  },
  {
   "cell_type": "markdown",
   "metadata": {},
   "source": [
    "# Example 2\n",
    "* Element uniquness problem, check whether all the elements in a given array of *n* elements are distinct.\n",
    "* The natural measure of the input's size is n.\n",
    "* The comparison should be the basic operation, it's really the only operation in this case.\n",
    "* Depending on the number of equal elements in the array, the number of comparisons will differ.\n",
    "    * If there are equal elements early in the array, there will be less basic operations compared to if the list has no equal elements.\n",
    "    * Thus, we will focus on the worst case.\n",
    "* There are two worst case scenarios.\n",
    "    * There are no equal elements\n",
    "    * The equal elements are at the last two places in the array.\n",
    "* Since there are two loops, there are two summations.\n",
    "    * The first summation, outer, is starting from index 0 to n-2, designated with i.\n",
    "    * The second summation, inner, is starting from index i+1 to n-1, designed with j.\n",
    "* Thus, we can represent the number of basic operations as:\n",
    "    * $C_{worst}(n) = \\sum_{i=0}^{n-2}\\sum_{j=i+1}^{n-1} 1$\n",
    "    * $= \\sum_{i=0}^{n-2} (n-1) - (i+1) + 1$ \n",
    "    * $= \\sum_{i=0}^{n-2} (n-i-1)$\n",
    "    * $= \\sum_{i=0}^{n-2} n-1 - \\sum_{i=0}^{n-2} i$\n",
    "    * $= \\sum_{i=0}^{n-2} n-1 - \\frac{(n-2)(n-1)}{2}$\n",
    "    * $= \\sum_{i=0}^{n-2} 1 - \\frac{(n-2)(n-1}{2}$\n",
    "    * $= (n-1)^2 - \\frac{(n-2)(n-1)}{2}$\n",
    "    * $= \\frac{(n)(n-1)}{2} \\approx \\frac{1}{2}n^2 \\in \\Theta(n^2)$\n",
    "* Another way we can represent this\n",
    "    * $\\sum_{i=0}^{n-2}(n-1-i) = (n-1) + (n-2) + ... + 1 = \\frac{(n-1)(n)}{2}$"
   ]
  },
  {
   "cell_type": "code",
   "execution_count": 3,
   "metadata": {},
   "outputs": [],
   "source": [
    "def UniqueElements(A):\n",
    "    # Determines whether all the elemenets in a given array are distinct\n",
    "    # Input: An array A[0...n-1]\n",
    "    # Output: Returns \"True\" if all element are unique, \"False\" otherwise\n",
    "    for i in range(len(A) - 2):\n",
    "        for j in range(i+1, len(A) -1):\n",
    "            if A[i] == A[j]:\n",
    "                return False\n",
    "    return True"
   ]
  },
  {
   "cell_type": "markdown",
   "metadata": {},
   "source": [
    "# Example 3\n",
    "* Given 2 n x n matrices A and B, find the time efficiency for computer the product C = AB.\n",
    "    * By definition, C is an n x n matrix whose elements are computed as the dot products of the rows of matrix A and the columns of matrix B.\n",
    "    * $\\begin{bmatrix}\n",
    "       A_{11} & A_{12} & A_{13} & \\dots \\\\\n",
    "       \\dots\n",
    "      \\end{bmatrix}$ * $\\begin{bmatrix}\n",
    "       B_{11} & \\dots\\\\ \n",
    "       B_{21} \\\\\n",
    "       B_{31} \\\\\n",
    "       \\dots  \\\\ \n",
    "      \\end{bmatrix}$ = $\\begin{bmatrix}\n",
    "       C_{11} = A_{11} * B_{11} + A_{12} * B_{21} + A_{13}* B_{31} \\dots \\\\\n",
    "       \\dots\n",
    "      \\end{bmatrix}$\n",
    "* C is an n x n matrix whose elements are computed as the scalar (dot products) of the rows of matrix A and columns of matrix B.\n",
    "* Since we are working with square matrices, we can measure the size of the input with the order of the matrix, n.\n",
    "* There are two operaitions being performed, addition and multiplication, but since they are consecutive of one another and order of operations, our basic operation is the act of multiplying two values together.\n",
    "* There are no specific cases for best, worst, and average. No matter how the input is formatted, any matrix of order n will have the same number of basic operations performed.\n",
    "* Closed loop solution:\n",
    "    * Inner most loop is $\\sum_{k=0}^{n-1} 1$\n",
    "    * With outer loops: $\\sum_{i=0}^{n-1} \\sum_{j=0}^{n-1} \\sum_{k=0}^{n-1} 1$\n",
    "    * $= \\sum_{i=0}^{n-1} \\sum_{j=0}^{n-1} (n-1+0+1)$\n",
    "    * $= \\sum_{i=0}^{n-1} \\sum_{j=0}^{n-1} n$\n",
    "    * $= n * \\sum_{i=0}^{n-1} \\sum_{j=0}^{n-1} 1$\n",
    "    * $= n * \\sum_{i=0}^{n-1} n$\n",
    "    * $= \\sum_{i=0}^{n-1} n^2$\n",
    "    * $= n^3$\n",
    "        * Apply the same thinking from the previous two steps, will be summing n^2 n times, which is basically just n^2 * n\n",
    "* Estimate running time\n",
    "    * An approximate is by finding the time it takes to perform one multiplication operation($c_m$) and multiplying it by the number of multiplying operations ($M(n)$).\n",
    "        * But, an even more accurate calculation is factoring in the addition operation.\n",
    "    * $T(n) \\approx c_m * M(n) + c_a * A(n) = c_mn^3 + c_an^3 = (c_m + c_a) * n^3$\n",
    "        * Note, order of growth for both operations are the same."
   ]
  },
  {
   "cell_type": "code",
   "execution_count": 5,
   "metadata": {},
   "outputs": [],
   "source": [
    "def MatrixMultiplication(A, B):\n",
    "    # Multiplies two square matrices of order n by the definition-based algorithm\n",
    "    # Input: 2 n x n matrices A and B\n",
    "    # Output: Matrix C = A * B\n",
    "    # Assume both matrices are square matrices and that they are both of order n, nxn.\n",
    "    C = [[None] * n] * n\n",
    "    for i in range(n-1):\n",
    "        for j in range(n-1):\n",
    "            C[i,j] = 0\n",
    "            for k in range(n-1):\n",
    "                # Traverses down matrix A column by column (down row i)\n",
    "                # Traverses down matrix B row by row (down column j)\n",
    "                # Multiply and stores in C[i,j] (take sum of multiply row i from A and column j from B)\n",
    "                C[i,j] = C[i,j] + A[i,k] * B[k,j]\n",
    "    return C"
   ]
  },
  {
   "cell_type": "code",
   "execution_count": null,
   "metadata": {},
   "outputs": [],
   "source": []
  }
 ],
 "metadata": {
  "kernelspec": {
   "display_name": "Python 3",
   "language": "python",
   "name": "python3"
  },
  "language_info": {
   "codemirror_mode": {
    "name": "ipython",
    "version": 3
   },
   "file_extension": ".py",
   "mimetype": "text/x-python",
   "name": "python",
   "nbconvert_exporter": "python",
   "pygments_lexer": "ipython3",
   "version": "3.6.5"
  }
 },
 "nbformat": 4,
 "nbformat_minor": 2
}
